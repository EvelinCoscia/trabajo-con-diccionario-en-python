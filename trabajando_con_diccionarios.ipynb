{
 "cells": [
  {
   "cell_type": "markdown",
   "metadata": {},
   "source": [
    "1. Crea un diccionario vacío llamado “mi_diccionario”."
   ]
  },
  {
   "cell_type": "code",
   "execution_count": 1,
   "metadata": {},
   "outputs": [
    {
     "name": "stdout",
     "output_type": "stream",
     "text": [
      "<class 'dict'>\n"
     ]
    }
   ],
   "source": [
    "mi_diccionario ={}\n",
    "print(type(mi_diccionario))"
   ]
  },
  {
   "cell_type": "markdown",
   "metadata": {},
   "source": [
    "2. Agrega un par clave-valor a \"mi_diccionario\" donde la clave sea \"nombre\" y el valor\n",
    "sea tu nombre.\n"
   ]
  },
  {
   "cell_type": "code",
   "execution_count": 2,
   "metadata": {},
   "outputs": [
    {
     "name": "stdout",
     "output_type": "stream",
     "text": [
      "{'nombre': 'Evelin'}\n"
     ]
    }
   ],
   "source": [
    "mi_diccionario['nombre'] = 'Evelin'\n",
    "print(mi_diccionario)"
   ]
  },
  {
   "cell_type": "markdown",
   "metadata": {},
   "source": [
    "\n",
    "3. Accede e imprime el valor asociado con la clave \"nombre\" en “mi_diccionario\"."
   ]
  },
  {
   "cell_type": "code",
   "execution_count": 3,
   "metadata": {},
   "outputs": [
    {
     "name": "stdout",
     "output_type": "stream",
     "text": [
      "Evelin\n"
     ]
    }
   ],
   "source": [
    "print(mi_diccionario['nombre'])"
   ]
  },
  {
   "cell_type": "markdown",
   "metadata": {},
   "source": [
    "4. Verifica si la clave \"edad\" existe en \"mi_diccionario\". Imprime \"True\" si existe y \"False\"\n",
    "en caso contrario."
   ]
  },
  {
   "cell_type": "code",
   "execution_count": 4,
   "metadata": {},
   "outputs": [
    {
     "name": "stdout",
     "output_type": "stream",
     "text": [
      "False\n"
     ]
    }
   ],
   "source": [
    "print('edad' in mi_diccionario)"
   ]
  },
  {
   "cell_type": "markdown",
   "metadata": {},
   "source": [
    "5. Crea un diccionario llamado \"estudiante\" con los siguientes pares clave-valor:\n",
    "\"nombre\" con el nombre del alumno, \"edad\" con su edad y \"materia\" con su materia\n",
    "favorita."
   ]
  },
  {
   "cell_type": "code",
   "execution_count": 5,
   "metadata": {},
   "outputs": [
    {
     "name": "stdout",
     "output_type": "stream",
     "text": [
      "{'Nombre': 'Juan', 'Edad': 20, 'Materia': 'Matemática'}\n"
     ]
    }
   ],
   "source": [
    "estudiante ={'Nombre': 'Juan', 'Edad': 20, 'Materia': 'Matemática'}\n",
    "print(estudiante)"
   ]
  },
  {
   "cell_type": "markdown",
   "metadata": {},
   "source": [
    "6. Actualiza el valor de la clave \"edad\" en el diccionario \"estudiante\" para reflejar la edad\n",
    "actual de tu amigo.\n"
   ]
  },
  {
   "cell_type": "code",
   "execution_count": 6,
   "metadata": {},
   "outputs": [
    {
     "name": "stdout",
     "output_type": "stream",
     "text": [
      "{'Nombre': 'Juan', 'Edad': 25, 'Materia': 'Matemática'}\n"
     ]
    }
   ],
   "source": [
    "estudiante['Edad'] = 25\n",
    "print(estudiante)"
   ]
  },
  {
   "cell_type": "markdown",
   "metadata": {},
   "source": [
    "7. Elimina el par clave-valor con la clave \"materia\" del diccionario “estudiante\"."
   ]
  },
  {
   "cell_type": "code",
   "execution_count": 37,
   "metadata": {},
   "outputs": [
    {
     "ename": "TypeError",
     "evalue": "list indices must be integers or slices, not str",
     "output_type": "error",
     "traceback": [
      "\u001b[1;31m---------------------------------------------------------------------------\u001b[0m",
      "\u001b[1;31mTypeError\u001b[0m                                 Traceback (most recent call last)",
      "Cell \u001b[1;32mIn[37], line 1\u001b[0m\n\u001b[1;32m----> 1\u001b[0m \u001b[38;5;28;01mdel\u001b[39;00m estudiante[\u001b[38;5;124m\"\u001b[39m\u001b[38;5;124mMateria\u001b[39m\u001b[38;5;124m\"\u001b[39m]\n\u001b[0;32m      2\u001b[0m \u001b[38;5;28mprint\u001b[39m(estudiante)\n",
      "\u001b[1;31mTypeError\u001b[0m: list indices must be integers or slices, not str"
     ]
    }
   ],
   "source": [
    "del estudiante[\"Materia\"]\n",
    "print(estudiante)"
   ]
  },
  {
   "cell_type": "markdown",
   "metadata": {},
   "source": [
    "8. Imprime todas las claves en el diccionario “estudiante\"."
   ]
  },
  {
   "cell_type": "code",
   "execution_count": 10,
   "metadata": {},
   "outputs": [
    {
     "name": "stdout",
     "output_type": "stream",
     "text": [
      "Nombre\n",
      "Edad\n"
     ]
    }
   ],
   "source": [
    "for clave in estudiante.keys():\n",
    "    print(clave)"
   ]
  },
  {
   "cell_type": "markdown",
   "metadata": {},
   "source": [
    "9. Crea un diccionario llamado \"agenda\" con tres entradas: \"Juan\" con el valor\n",
    "\"1234567890\", \"Joana\" con el valor \"9876543210\" y \"Jimena\" con el valor\n",
    "“5555555555”."
   ]
  },
  {
   "cell_type": "code",
   "execution_count": 13,
   "metadata": {},
   "outputs": [
    {
     "name": "stdout",
     "output_type": "stream",
     "text": [
      "{'Juan': '1234567890', 'Joana': '9876543210', 'Jimena': '5555555555'}\n"
     ]
    }
   ],
   "source": [
    "agenda ={\"Juan\": \"1234567890\",\"Joana\": \"9876543210\", \"Jimena\": \"5555555555\"}\n",
    "print(agenda)"
   ]
  },
  {
   "cell_type": "markdown",
   "metadata": {},
   "source": [
    "10.Agrega una nueva entrada al diccionario \"agenda\" con la clave \"Julio\" y el valor\n",
    "“9998887777\"."
   ]
  },
  {
   "cell_type": "code",
   "execution_count": 14,
   "metadata": {},
   "outputs": [
    {
     "name": "stdout",
     "output_type": "stream",
     "text": [
      "{'Juan': '1234567890', 'Joana': '9876543210', 'Jimena': '5555555555', 'Julio': '9998887777'}\n"
     ]
    }
   ],
   "source": [
    "agenda[\"Julio\"] = \"9998887777\"\n",
    "print(agenda)"
   ]
  },
  {
   "cell_type": "markdown",
   "metadata": {},
   "source": [
    "11. Imprime el número de entradas (pares clave-valor) en el diccionario “agenda\"."
   ]
  },
  {
   "cell_type": "code",
   "execution_count": 15,
   "metadata": {},
   "outputs": [
    {
     "name": "stdout",
     "output_type": "stream",
     "text": [
      "4\n"
     ]
    }
   ],
   "source": [
    "print(len(agenda))"
   ]
  },
  {
   "cell_type": "markdown",
   "metadata": {},
   "source": [
    "12.Crea una lista llamada \"claves\" que contenga todas las claves del diccionario\n",
    "“agenda\"."
   ]
  },
  {
   "cell_type": "code",
   "execution_count": 16,
   "metadata": {},
   "outputs": [
    {
     "name": "stdout",
     "output_type": "stream",
     "text": [
      "['Juan', 'Joana', 'Jimena', 'Julio']\n"
     ]
    }
   ],
   "source": [
    "claves = list(agenda.keys())\n",
    "print(claves)"
   ]
  },
  {
   "cell_type": "markdown",
   "metadata": {},
   "source": [
    "13.Verifica si la clave \"Juan\" existe en el diccionario \"agenda\". Imprime \"True\" si existe y\n",
    "\"False\" en caso contrario."
   ]
  },
  {
   "cell_type": "code",
   "execution_count": 17,
   "metadata": {},
   "outputs": [
    {
     "name": "stdout",
     "output_type": "stream",
     "text": [
      "True\n"
     ]
    }
   ],
   "source": [
    "print(\"Juan\" in agenda)"
   ]
  },
  {
   "cell_type": "markdown",
   "metadata": {},
   "source": [
    "14. Elimina la entrada con la clave “Jimena”."
   ]
  },
  {
   "cell_type": "code",
   "execution_count": 18,
   "metadata": {},
   "outputs": [
    {
     "name": "stdout",
     "output_type": "stream",
     "text": [
      "{'Juan': '1234567890', 'Joana': '9876543210', 'Julio': '9998887777'}\n"
     ]
    }
   ],
   "source": [
    "del agenda[\"Jimena\"]\n",
    "print(agenda)"
   ]
  },
  {
   "cell_type": "markdown",
   "metadata": {},
   "source": [
    "15. Utiliza un bucle for para iterar sobre todas las claves en el diccionario \"agenda\" e\n",
    "imprime cada par clave-valor en el formato \"Nombre: Número”."
   ]
  },
  {
   "cell_type": "code",
   "execution_count": 20,
   "metadata": {},
   "outputs": [
    {
     "name": "stdout",
     "output_type": "stream",
     "text": [
      "Juan:1234567890\n",
      "Joana:9876543210\n",
      "Julio:9998887777\n"
     ]
    }
   ],
   "source": [
    "for clave,valor in agenda.items():\n",
    "    print(clave + \":\" + valor)\n"
   ]
  },
  {
   "cell_type": "markdown",
   "metadata": {},
   "source": [
    "16. Utiliza el método \"get()\" para obtener el valor asociado con la clave \"Juan\" en el\n",
    "diccionario \"agenda\". Si la clave no existe, imprime \"Clave no encontrada”."
   ]
  },
  {
   "cell_type": "code",
   "execution_count": 22,
   "metadata": {},
   "outputs": [
    {
     "name": "stdout",
     "output_type": "stream",
     "text": [
      "clave no encontrada\n"
     ]
    }
   ],
   "source": [
    "valor_juan = agenda.get(\"pedro\", \"clave no encontrada\")\n",
    "print(valor_juan)"
   ]
  },
  {
   "cell_type": "markdown",
   "metadata": {},
   "source": [
    "17. Borra todas las entradas del diccionario “agenda”."
   ]
  },
  {
   "cell_type": "code",
   "execution_count": 23,
   "metadata": {},
   "outputs": [
    {
     "name": "stdout",
     "output_type": "stream",
     "text": [
      "{'Juan': '1234567890', 'Joana': '9876543210', 'Julio': '9998887777'}\n",
      "{}\n"
     ]
    }
   ],
   "source": [
    "print(agenda)\n",
    "agenda.clear()\n",
    "print(agenda)"
   ]
  },
  {
   "cell_type": "markdown",
   "metadata": {},
   "source": [
    "18. Crea una lista llamada \"estudiantes\" que contenga dos diccionarios. Cada diccionario\n",
    "representa a un estudiante y tiene las claves \"nombre\" y \"edad\" con sus respectivos\n",
    "valores. Recorre la lista e imprime el nombre y edad de cada estudiante."
   ]
  },
  {
   "cell_type": "code",
   "execution_count": 45,
   "metadata": {},
   "outputs": [
    {
     "name": "stdout",
     "output_type": "stream",
     "text": [
      "Juan 25\n",
      "Julian 55\n"
     ]
    }
   ],
   "source": [
    "estudiantes = [{\"nombre\": \"Juan\", \"edad\": 25} ,{\"nombre\": \"Julian\", \"edad\": 55}]\n",
    "for estudiante in estudiantes:\n",
    "    nombre = estudiante[\"nombre\"]\n",
    "    edad = estudiante[\"edad\"]\n",
    "    print(nombre, edad)\n"
   ]
  },
  {
   "cell_type": "markdown",
   "metadata": {},
   "source": [
    "19. Agrega un nuevo estudiante a la lista \"estudiantes\" utilizando un diccionario con las\n",
    "mismas claves \"nombre\" y \"edad\". Imprime la lista actualizada.\n"
   ]
  },
  {
   "cell_type": "code",
   "execution_count": 46,
   "metadata": {},
   "outputs": [
    {
     "name": "stdout",
     "output_type": "stream",
     "text": [
      "[{'nombre': 'Juan', 'edad': 25}, {'nombre': 'Julian', 'edad': 55}, {'nombre': 'felipe', 'edad': 23}]\n"
     ]
    }
   ],
   "source": [
    "estudiantes.append({\"nombre\": \"felipe\", \"edad\": 23})\n",
    "print(estudiantes)"
   ]
  },
  {
   "cell_type": "markdown",
   "metadata": {},
   "source": [
    "20.Elimina el segundo estudiante de la lista \"estudiantes\". Imprime la lista actualizada."
   ]
  },
  {
   "cell_type": "code",
   "execution_count": 47,
   "metadata": {},
   "outputs": [
    {
     "name": "stdout",
     "output_type": "stream",
     "text": [
      "[{'nombre': 'Juan', 'edad': 25}, {'nombre': 'felipe', 'edad': 23}]\n"
     ]
    }
   ],
   "source": [
    "del estudiantes[1]\n",
    "print(estudiantes)"
   ]
  },
  {
   "cell_type": "markdown",
   "metadata": {},
   "source": [
    "21. Actualiza la edad del primer estudiante en la lista \"estudiantes\" a un nuevo valor.\n",
    "Imprime la lista actualizada."
   ]
  },
  {
   "cell_type": "code",
   "execution_count": 49,
   "metadata": {},
   "outputs": [
    {
     "name": "stdout",
     "output_type": "stream",
     "text": [
      "[{'nombre': 'Juan', 'edad': 27}, {'nombre': 'felipe', 'edad': 23}]\n"
     ]
    }
   ],
   "source": [
    "estudiantes[0][\"edad\"] = 27\n",
    "print(estudiantes)"
   ]
  },
  {
   "cell_type": "markdown",
   "metadata": {},
   "source": [
    "22. Crea un diccionario llamado \"productos\" que contenga dos entradas. Cada entrada\n",
    "representa un producto y tiene a su vez las claves \"nombre\" y \"precio\" con sus\n",
    "respectivos valores. Recorre el diccionario e imprime el nombre y precio de cada\n",
    "producto."
   ]
  },
  {
   "cell_type": "code",
   "execution_count": 50,
   "metadata": {},
   "outputs": [
    {
     "name": "stdout",
     "output_type": "stream",
     "text": [
      "manzana 10\n",
      "arandano 15\n"
     ]
    }
   ],
   "source": [
    "producto = {\"producto1\": {\"nombre\":\"manzana\", \"precio\": 10}, \"producto2\": {\"nombre\":\"arandano\", \"precio\": 15}}\n",
    "for clave, valor in producto.items():\n",
    "    nombre = valor[\"nombre\"]\n",
    "    precio = valor[\"precio\"]\n",
    "    print(nombre, precio)"
   ]
  },
  {
   "cell_type": "markdown",
   "metadata": {},
   "source": [
    "23. Agrega un nuevo producto al diccionario \"productos\" utilizando una nueva clave y\n",
    "valor. Imprime el diccionario actualizado."
   ]
  },
  {
   "cell_type": "code",
   "execution_count": 51,
   "metadata": {},
   "outputs": [
    {
     "name": "stdout",
     "output_type": "stream",
     "text": [
      "{'producto1': {'nombre': 'manzana', 'precio': 10}, 'producto2': {'nombre': 'arandano', 'precio': 15}, 'producto3': {'nombre': 'platano', 'precio': 7}}\n"
     ]
    }
   ],
   "source": [
    "producto[\"producto3\"] = {\"nombre\":\"platano\", \"precio\": 7}\n",
    "print(producto)"
   ]
  },
  {
   "cell_type": "markdown",
   "metadata": {},
   "source": [
    "24. Crea un diccionario llamado \"equipos\" que contenga tres entradas. Cada entrada\n",
    "representa un equipo deportivo y tiene las claves \"nombre\" y \"jugadores\" con sus\n",
    "respectivos valores. Los valores de \"jugadores\" deben ser listas con los nombres de\n",
    "los jugadores. Recorre el diccionario e imprime el nombre del equipo y la lista de\n",
    "jugadores."
   ]
  },
  {
   "cell_type": "code",
   "execution_count": 2,
   "metadata": {},
   "outputs": [
    {
     "name": "stdout",
     "output_type": "stream",
     "text": [
      "Real Madrid ['jugador1', 'jugador2', 'jugador3']\n",
      "Real Sociedad ['jugador4', 'jugador5', 'jugador6']\n",
      "Sevilla ['jugador7', 'jugador8', 'jugador9']\n"
     ]
    }
   ],
   "source": [
    "equipos = {\"equipo1\": {\"nombre\": \"Real Madrid\", \"jugadores\": [\"jugador1\",\"jugador2\", \"jugador3\"]},\n",
    "           \"equipo2\": {\"nombre\": \"Real Sociedad\", \"jugadores\": [\"jugador4\",\"jugador5\", \"jugador6\"]},\n",
    "           \"equipo3\": {\"nombre\": \"Sevilla\", \"jugadores\": [\"jugador7\",\"jugador8\", \"jugador9\"]}}\n",
    "for clave,valor in equipos.items():\n",
    "    nombre_equipo = valor[\"nombre\"]\n",
    "    jugadores = valor[\"jugadores\"]\n",
    "    print(nombre_equipo, jugadores)"
   ]
  },
  {
   "cell_type": "markdown",
   "metadata": {},
   "source": [
    "25.Agrega un nuevo equipo al diccionario \"equipos\" utilizando una nueva clave y valor.\n",
    "La lista de jugadores debe contener al menos tres nombres. Imprime el diccionario\n",
    "actualizado.\n"
   ]
  },
  {
   "cell_type": "code",
   "execution_count": 3,
   "metadata": {},
   "outputs": [
    {
     "name": "stdout",
     "output_type": "stream",
     "text": [
      "{'equipo1': {'nombre': 'Real Madrid', 'jugadores': ['jugador1', 'jugador2', 'jugador3']}, 'equipo2': {'nombre': 'Real Sociedad', 'jugadores': ['jugador4', 'jugador5', 'jugador6']}, 'equipo3': {'nombre': 'Sevilla', 'jugadores': ['jugador7', 'jugador8', 'jugador9']}, 'equipo4': {'nombre': 'Rosario Central', 'jugadores': ['jugador10', 'jugador11', 'jugador12']}}\n"
     ]
    }
   ],
   "source": [
    "equipos[\"equipo4\"]= {\"nombre\": \"Rosario Central\", \"jugadores\":[\"jugador10\", \"jugador11\",\"jugador12\"]}\n",
    "print(equipos)"
   ]
  },
  {
   "cell_type": "markdown",
   "metadata": {},
   "source": [
    "26. Actualiza la lista de jugadores de uno de los equipos existentes en el diccionario\n",
    "\"equipos\". Agrega un nuevo jugador a la lista. Imprime el diccionario actualizado."
   ]
  },
  {
   "cell_type": "code",
   "execution_count": 4,
   "metadata": {},
   "outputs": [
    {
     "name": "stdout",
     "output_type": "stream",
     "text": [
      "{'equipo1': {'nombre': 'Real Madrid', 'jugadores': ['jugador1', 'jugador2', 'jugador3', 'jugador41']}, 'equipo2': {'nombre': 'Real Sociedad', 'jugadores': ['jugador4', 'jugador5', 'jugador6']}, 'equipo3': {'nombre': 'Sevilla', 'jugadores': ['jugador7', 'jugador8', 'jugador9']}, 'equipo4': {'nombre': 'Rosario Central', 'jugadores': ['jugador10', 'jugador11', 'jugador12']}}\n"
     ]
    }
   ],
   "source": [
    "equipos[\"equipo1\"][\"jugadores\"].append(\"jugador41\")\n",
    "print(equipos)"
   ]
  }
 ],
 "metadata": {
  "kernelspec": {
   "display_name": "Python 3",
   "language": "python",
   "name": "python3"
  },
  "language_info": {
   "codemirror_mode": {
    "name": "ipython",
    "version": 3
   },
   "file_extension": ".py",
   "mimetype": "text/x-python",
   "name": "python",
   "nbconvert_exporter": "python",
   "pygments_lexer": "ipython3",
   "version": "3.9.19"
  }
 },
 "nbformat": 4,
 "nbformat_minor": 2
}
